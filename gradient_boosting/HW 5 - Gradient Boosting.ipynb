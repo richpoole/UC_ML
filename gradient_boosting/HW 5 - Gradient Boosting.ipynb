{
 "cells": [
  {
   "cell_type": "markdown",
   "metadata": {},
   "source": [
    "#### Office Hours 5 Tips: \n",
    "\n",
    "Including a subset of materials covered in office Hours notes to help with HW 5\n",
    "\n",
    "\n",
    "- alpha term (Ada Boost) \n",
    "\n",
    "- majority vote - classification (Ada Boost)\n",
    "\n",
    "- Randomized Search CV "
   ]
  },
  {
   "cell_type": "markdown",
   "metadata": {},
   "source": [
    "##### Ada Boost - Alpha term: \n",
    "\n",
    "- How much should we trust any specific classifier? \n",
    "     - The `alpha` dictates how much weight we apply to the classifier (plot below) at the end, and also helps with how we handle weights for subsequent classifiers  (source: Elements of Statistical Learning, Ch. 10.1)\n",
    "\n",
    "$$ \\alpha_{m}  = \\log((1-err_{m})/err_{m})$$\n",
    "\n",
    "Let's do a quick example: \n",
    "\n",
    "- Classifier 1 (m = 1) had an error of 0.45\n",
    "\n",
    "- Classifier 2 (m = 2) had a better error of 0.25"
   ]
  },
  {
   "cell_type": "code",
   "execution_count": 9,
   "metadata": {},
   "outputs": [
    {
     "name": "stdout",
     "output_type": "stream",
     "text": [
      "The alpha term for Classifier 1 is 0.20067069546215124\n",
      "The alpha term for Classifier 2 is 1.0986122886681098\n"
     ]
    }
   ],
   "source": [
    "import numpy as np\n",
    "\n",
    "# classifier 1\n",
    "err_1 = 0.45\n",
    "alpha_1 = np.log((1-err_1)/err_1)\n",
    "print(\"The alpha term for Classifier 1 is {}\".format(alpha_1))\n",
    "\n",
    "# classifier 2\n",
    "err_2 = 0.25\n",
    "alpha_2 = np.log((1-err_2)/err_2)\n",
    "print(\"The alpha term for Classifier 2 is {}\".format(alpha_2))"
   ]
  },
  {
   "cell_type": "markdown",
   "metadata": {},
   "source": [
    "Notice how much higher the alpha value is for Classifier 2. This means classifier 2 will get more \"say\" in the final class of a prediction when we get to majority voting. "
   ]
  },
  {
   "cell_type": "markdown",
   "metadata": {},
   "source": [
    "#####  Majority Vote in Ada Boost: Classification \n",
    "\n",
    "From ESL: \n",
    "\n",
    "$$ G(x) = sign[\\sum\\limits_{m=1}^m \\alpha_{m}G_{m}(x)] $$\n",
    "\n",
    "Let's break the final prediction down: \n",
    "\n",
    "- This is the output for \"Discrete AdaBoost\"\n",
    "- Each G(m) model is going to predict either 1 or -1\n",
    "- The weight of the prediction is based on the alpha term:\n",
    "    - Recall that a low error =  high alpha\n",
    "    - So \"weak learners\" that predict better get more say in the final vote\n",
    "- Since we get a discrete output, the prediction just takes the sign of the final output (i.e. negative or positive class) "
   ]
  },
  {
   "cell_type": "code",
   "execution_count": 10,
   "metadata": {},
   "outputs": [
    {
     "name": "stdout",
     "output_type": "stream",
     "text": [
      "Final answer is 3.4\n",
      "We predict this observation is of class 1.0\n"
     ]
    }
   ],
   "source": [
    "# example: let's say we had 4 models for predicting an observation\n",
    "\n",
    "# predicted class across models\n",
    "mod_preds = np.asarray((1,1,-1,1))\n",
    "\n",
    "# alpha value - how much do we trust the model?\n",
    "mod_alpha = np.asarray((0.4,2.8,0.5,0.7))\n",
    "\n",
    "# calculation of final prediction\n",
    "ans = np.sum(mod_preds*mod_alpha)\n",
    "print(\"Final answer is {}\".format(round(ans,2)))\n",
    "\n",
    "# we just use 'sign' to then predict a class of '1'\n",
    "print(\"We predict this observation is of class {}\".format(np.sign(ans)))"
   ]
  },
  {
   "cell_type": "markdown",
   "metadata": {},
   "source": [
    "Let's see what happens if classifier 3 (which predicts a negative class) has a greater alpha term while other classifiers are reduced. "
   ]
  },
  {
   "cell_type": "code",
   "execution_count": 11,
   "metadata": {},
   "outputs": [
    {
     "name": "stdout",
     "output_type": "stream",
     "text": [
      "Final answer is -3.7\n",
      "We predict this observation is of class -1.0\n"
     ]
    }
   ],
   "source": [
    "# alpha value - how much do we trust the model?\n",
    "mod_alpha = np.asarray((0.4,0.2,4.5,0.2))\n",
    "\n",
    "# calculation of final prediction\n",
    "ans = np.sum(mod_preds*mod_alpha)\n",
    "print(\"Final answer is {}\".format(round(ans,2)))\n",
    "\n",
    "# we just use 'sign' to then predict a class of '1'\n",
    "print(\"We predict this observation is of class {}\".format(np.sign(ans)))"
   ]
  },
  {
   "cell_type": "markdown",
   "metadata": {},
   "source": [
    "##### Randomized Search CV: \n",
    "\n",
    "- Example of implementation in sklearn \n",
    "\n",
    "- For more detailed information & a few examples of the value of Randomized Search, please review the following paper: http://www.jmlr.org/papers/volume13/bergstra12a/bergstra12a.pdf"
   ]
  },
  {
   "cell_type": "code",
   "execution_count": 12,
   "metadata": {},
   "outputs": [],
   "source": [
    "# libraries used \n",
    "import pandas as pd \n",
    "import numpy as np \n",
    "import matplotlib.pyplot as plt\n",
    "from sklearn.ensemble import RandomForestClassifier\n",
    "from sklearn.model_selection import RandomizedSearchCV, train_test_split\n",
    "from sklearn.metrics import confusion_matrix, classification_report, roc_curve, roc_auc_score, auc\n",
    "from sklearn import datasets\n",
    "\n",
    "# pull in sklearn data\n",
    "breast_cancer = datasets.load_breast_cancer()\n",
    "X = pd.DataFrame(breast_cancer.data, columns=breast_cancer.feature_names) # separate step for sklearn data, don't worry\n",
    "\n",
    "y = breast_cancer.target\n",
    "\n",
    "# generate train / test\n",
    "X_train, X_test, y_train, y_test = train_test_split(X, y, test_size = 0.2, random_state = 1234)\n",
    "\n",
    "\n",
    "# build a baseline model to use in grid search later\n",
    "rf_obj=RandomForestClassifier(random_state=42)"
   ]
  },
  {
   "cell_type": "code",
   "execution_count": 13,
   "metadata": {},
   "outputs": [],
   "source": [
    "# Create our grid - this time we will make it much larger since we are using Random Search \n",
    "# n_estimators from 100-1400 in steps of 100 \n",
    "# max_features: 2-15 by 1s\n",
    "# max_depth: 1-4 in steps of 1\n",
    "param_grid = {'n_estimators':np.arange(100,1500,100),\n",
    "              'max_features':np.arange(2,16,1),\n",
    "             'max_depth': np.arange(1,5,1),\n",
    "             }"
   ]
  },
  {
   "cell_type": "code",
   "execution_count": 14,
   "metadata": {},
   "outputs": [
    {
     "data": {
      "text/plain": [
       "{'n_estimators': array([ 100,  200,  300,  400,  500,  600,  700,  800,  900, 1000, 1100,\n",
       "        1200, 1300, 1400]),\n",
       " 'max_features': array([ 2,  3,  4,  5,  6,  7,  8,  9, 10, 11, 12, 13, 14, 15]),\n",
       " 'max_depth': array([1, 2, 3, 4])}"
      ]
     },
     "execution_count": 14,
     "metadata": {},
     "output_type": "execute_result"
    }
   ],
   "source": [
    "param_grid"
   ]
  },
  {
   "cell_type": "code",
   "execution_count": 15,
   "metadata": {},
   "outputs": [
    {
     "name": "stdout",
     "output_type": "stream",
     "text": [
      "Fitting 5 folds for each of 10 candidates, totalling 50 fits\n"
     ]
    },
    {
     "name": "stderr",
     "output_type": "stream",
     "text": [
      "[Parallel(n_jobs=-1)]: Done  24 tasks      | elapsed:   13.8s\n",
      "[Parallel(n_jobs=-1)]: Done  50 out of  50 | elapsed:   33.7s finished\n"
     ]
    },
    {
     "data": {
      "text/plain": [
       "RandomizedSearchCV(cv=5, error_score='raise',\n",
       "          estimator=RandomForestClassifier(bootstrap=True, class_weight=None, criterion='gini',\n",
       "            max_depth=None, max_features='auto', max_leaf_nodes=None,\n",
       "            min_impurity_decrease=0.0, min_impurity_split=None,\n",
       "            min_samples_leaf=1, min_samples_split=2,\n",
       "            min_weight_fraction_leaf=0.0, n_estimators=10, n_jobs=1,\n",
       "            oob_score=False, random_state=42, verbose=0, warm_start=False),\n",
       "          fit_params=None, iid=True, n_iter=10, n_jobs=-1,\n",
       "          param_distributions={'n_estimators': array([ 100,  200,  300,  400,  500,  600,  700,  800,  900, 1000, 1100,\n",
       "       1200, 1300, 1400]), 'max_features': array([ 2,  3,  4,  5,  6,  7,  8,  9, 10, 11, 12, 13, 14, 15]), 'max_depth': array([1, 2, 3, 4])},\n",
       "          pre_dispatch='2*n_jobs', random_state=1001, refit=True,\n",
       "          return_train_score='warn', scoring='roc_auc', verbose=3)"
      ]
     },
     "execution_count": 15,
     "metadata": {},
     "output_type": "execute_result"
    }
   ],
   "source": [
    "# scoring = roc auc is good for classifiers \n",
    "random_search = RandomizedSearchCV(rf_obj, param_distributions=param_grid, cv = 5, scoring='roc_auc', n_jobs=-1, verbose=3, random_state=1001 )\n",
    "\n",
    "# fit each model - scored based on cross-validation accuracy\n",
    "random_search.fit(X_train, y_train)"
   ]
  },
  {
   "cell_type": "code",
   "execution_count": 16,
   "metadata": {},
   "outputs": [
    {
     "data": {
      "text/plain": [
       "RandomForestClassifier(bootstrap=True, class_weight=None, criterion='gini',\n",
       "            max_depth=4, max_features=9, max_leaf_nodes=None,\n",
       "            min_impurity_decrease=0.0, min_impurity_split=None,\n",
       "            min_samples_leaf=1, min_samples_split=2,\n",
       "            min_weight_fraction_leaf=0.0, n_estimators=800, n_jobs=1,\n",
       "            oob_score=False, random_state=42, verbose=0, warm_start=False)"
      ]
     },
     "execution_count": 16,
     "metadata": {},
     "output_type": "execute_result"
    }
   ],
   "source": [
    "# see our best performing model: \n",
    "random_search.best_estimator_"
   ]
  },
  {
   "cell_type": "markdown",
   "metadata": {},
   "source": [
    "##### Building out AUC Curve: \n",
    "\n",
    "Adapted from: \n",
    "\n",
    "- https://scikit-learn.org/stable/auto_examples/model_selection/plot_roc_crossval.html#sphx-glr-auto-examples-model-selection-plot-roc-crossval-py\n",
    "\n"
   ]
  },
  {
   "cell_type": "code",
   "execution_count": 23,
   "metadata": {},
   "outputs": [
    {
     "data": {
      "image/png": "[encoded data removed]",
      "text/plain": [
       "<Figure size 432x288 with 1 Axes>"
      ]
     },
     "metadata": {},
     "output_type": "display_data"
    }
   ],
   "source": [
    "# generate array of probabilities across all classes; [:,0] = negative, [:,1] = positive\n",
    "probas_ = random_search.best_estimator_.predict_proba(X_test)\n",
    "\n",
    "# generate fpr, tpr  at various thresholds for Class == 1 (positive case)\n",
    "fpr, tpr, thresholds = roc_curve(y_test, probas_[:, 1])\n",
    "\n",
    "# roc value for classifier class == 1\n",
    "roc_auc = auc(fpr, tpr)\n",
    "\n",
    "# the actual plotting\n",
    "plt.figure()\n",
    "lw = 2\n",
    "plt.plot(fpr, tpr, color='darkorange', lw=lw, label='ROC curve (area = %0.2f)' % roc_auc) # classifier curve\n",
    "plt.plot([0, 1], [0, 1], color='navy', lw=lw, linestyle='--') # this represents random guessing \n",
    "plt.xlim([0.0, 1.0])\n",
    "plt.ylim([0.0, 1.05])\n",
    "plt.xlabel('False Positive Rate')\n",
    "plt.ylabel('True Positive Rate')\n",
    "plt.title('Receiver operating characteristic example')\n",
    "plt.legend(loc=\"lower right\")\n",
    "plt.show()"
   ]
  },
  {
   "cell_type": "code",
   "execution_count": null,
   "metadata": {},
   "outputs": [],
   "source": []
  },
  {
   "cell_type": "code",
   "execution_count": null,
   "metadata": {},
   "outputs": [],
   "source": []
  }
 ],
 "metadata": {
  "kernelspec": {
   "display_name": "Python [conda env:ml_py36]",
   "language": "python",
   "name": "conda-env-ml_py36-py"
  },
  "language_info": {
   "codemirror_mode": {
    "name": "ipython",
    "version": 3
   },
   "file_extension": ".py",
   "mimetype": "text/x-python",
   "name": "python",
   "nbconvert_exporter": "python",
   "pygments_lexer": "ipython3",
   "version": "3.6.5"
  }
 },
 "nbformat": 4,
 "nbformat_minor": 2
}
