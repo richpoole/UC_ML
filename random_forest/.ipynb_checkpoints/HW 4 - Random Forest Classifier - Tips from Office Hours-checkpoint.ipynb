{
 "cells": [
  {
   "cell_type": "markdown",
   "metadata": {},
   "source": [
    "### Office Hours 4 Tips: \n",
    "\n",
    "Including portions of the Office Hours notes to help on HW 4. \n",
    "\n",
    "Covers:\n",
    "\n",
    "- Plot of Gini vs Entropy\n",
    "- Grid Search CV\n",
    "- Basic Example of running RF + Grid Search CV\n",
    "- Overview of Feature Importance & How to Plot"
   ]
  },
  {
   "cell_type": "markdown",
   "metadata": {},
   "source": [
    "#### Basic Plot of Gini vs Entropy\n",
    "\n",
    "- Helpful post in Stack Exchange on Gini vs Entropy: https://datascience.stackexchange.com/questions/10228/gini-impurity-vs-entropy"
   ]
  },
  {
   "cell_type": "code",
   "execution_count": 1,
   "metadata": {},
   "outputs": [
    {
     "data": {
      "image/png": "[encoded data removed]",
      "text/plain": [
       "<Figure size 432x288 with 1 Axes>"
      ]
     },
     "metadata": {},
     "output_type": "display_data"
    }
   ],
   "source": [
    "# basic plot of gini & entropy \n",
    "%matplotlib inline\n",
    "import numpy as np\n",
    "import matplotlib.pyplot as plt\n",
    "\n",
    "# sequence of prob values for 0-1 by 0.01\n",
    "p = np.linspace(0.01,.99,99)\n",
    "\n",
    "# gini index\n",
    "gini = 2*p*(1-p)\n",
    "\n",
    "# cross entropy\n",
    "ce = (p * np.log((1-p)/p) - np.log(1-p))/ (2*np.log(2))\n",
    "\n",
    "# plot it out \n",
    "plt.plot(p,gini, label = \"Gini Impurity\") \n",
    "plt.plot(p,ce, label = \"Cross-entropy\") \n",
    "plt.title(\"Splitting Criterion\")\n",
    "plt.xlabel('proportion of class 1 in node')\n",
    "plt.ylabel('impurity measure')\n",
    "plt.xlim(0,1)\n",
    "plt.xticks(np.linspace(0,1,11))\n",
    "plt.legend()\n",
    "plt.show()"
   ]
  },
  {
   "cell_type": "markdown",
   "metadata": {},
   "source": [
    "   \n",
    "#### What is GridSearchCV? \n",
    "\n",
    "- It is a simple tool from sklearn to allow us to try out various combinations of the aforementioned `hyperparameters`. \n",
    "    - Grid Search means we can try various combinations\n",
    "    - CV stands for Cross-Validation \n",
    "\n",
    "- Documentation: https://scikit-learn.org/stable/modules/generated/sklearn.model_selection.GridSearchCV.html\n",
    "\n",
    "- sklearn example: https://scikit-learn.org/stable/auto_examples/model_selection/plot_grid_search_digits.html\n",
    "\n",
    "*Example from my notebook:*\n",
    "\n",
    "- We just use a dictionary (more detailed review in code section) \n",
    "- Example below will run: 6 x 5 x 5 combinations (150)\n",
    "\n",
    "```python \n",
    "# example of grid\n",
    "param_grid = {'n_estimators':[500, 1000, 2500, 5000, 25000, 50000],\n",
    "             'max_features':[2,4,6,8,10],\n",
    "             'max_depth':[2,4,6,8,10],\n",
    "             'random_state':[0]}\n",
    "```"
   ]
  },
  {
   "cell_type": "markdown",
   "metadata": {},
   "source": [
    "#### Random Forest + GridSearchCV + Cross-Validation In Python: \n",
    "\n",
    "- Will run through a simple example of Random Forest in Python \n",
    "\n",
    "- Feel free to run this to improve your understanding of this process\n"
   ]
  },
  {
   "cell_type": "code",
   "execution_count": 2,
   "metadata": {},
   "outputs": [],
   "source": [
    "# libraries used \n",
    "import pandas as pd \n",
    "import numpy as np \n",
    "import matplotlib.pyplot as plt\n",
    "from sklearn.ensemble import RandomForestClassifier\n",
    "from sklearn.model_selection import GridSearchCV, train_test_split\n",
    "from sklearn.metrics import confusion_matrix, classification_report, roc_curve, roc_auc_score, auc\n",
    "from sklearn import datasets\n",
    "\n",
    "# pull in sklearn data\n",
    "breast_cancer = datasets.load_breast_cancer()\n",
    "X = pd.DataFrame(breast_cancer.data, columns=breast_cancer.feature_names) # separate step for sklearn data, don't worry\n",
    "\n",
    "y = breast_cancer.target\n",
    "\n",
    "# generate train / test\n",
    "X_train, X_test, y_train, y_test = train_test_split(X, y, test_size = 0.2, random_state = 1234)"
   ]
  },
  {
   "cell_type": "code",
   "execution_count": 3,
   "metadata": {},
   "outputs": [
    {
     "data": {
      "text/html": [
       "<div>\n",
       "<style scoped>\n",
       "    .dataframe tbody tr th:only-of-type {\n",
       "        vertical-align: middle;\n",
       "    }\n",
       "\n",
       "    .dataframe tbody tr th {\n",
       "        vertical-align: top;\n",
       "    }\n",
       "\n",
       "    .dataframe thead th {\n",
       "        text-align: right;\n",
       "    }\n",
       "</style>\n",
       "<table border=\"1\" class=\"dataframe\">\n",
       "  <thead>\n",
       "    <tr style=\"text-align: right;\">\n",
       "      <th></th>\n",
       "      <th>mean radius</th>\n",
       "      <th>mean texture</th>\n",
       "      <th>mean perimeter</th>\n",
       "      <th>mean area</th>\n",
       "      <th>mean smoothness</th>\n",
       "      <th>mean compactness</th>\n",
       "      <th>mean concavity</th>\n",
       "      <th>mean concave points</th>\n",
       "      <th>mean symmetry</th>\n",
       "      <th>mean fractal dimension</th>\n",
       "      <th>...</th>\n",
       "      <th>worst radius</th>\n",
       "      <th>worst texture</th>\n",
       "      <th>worst perimeter</th>\n",
       "      <th>worst area</th>\n",
       "      <th>worst smoothness</th>\n",
       "      <th>worst compactness</th>\n",
       "      <th>worst concavity</th>\n",
       "      <th>worst concave points</th>\n",
       "      <th>worst symmetry</th>\n",
       "      <th>worst fractal dimension</th>\n",
       "    </tr>\n",
       "  </thead>\n",
       "  <tbody>\n",
       "    <tr>\n",
       "      <th>518</th>\n",
       "      <td>12.88</td>\n",
       "      <td>18.22</td>\n",
       "      <td>84.45</td>\n",
       "      <td>493.1</td>\n",
       "      <td>0.12180</td>\n",
       "      <td>0.16610</td>\n",
       "      <td>0.04825</td>\n",
       "      <td>0.05303</td>\n",
       "      <td>0.1709</td>\n",
       "      <td>0.07253</td>\n",
       "      <td>...</td>\n",
       "      <td>15.05</td>\n",
       "      <td>24.37</td>\n",
       "      <td>99.31</td>\n",
       "      <td>674.7</td>\n",
       "      <td>0.14560</td>\n",
       "      <td>0.29610</td>\n",
       "      <td>0.12460</td>\n",
       "      <td>0.10960</td>\n",
       "      <td>0.2582</td>\n",
       "      <td>0.08893</td>\n",
       "    </tr>\n",
       "    <tr>\n",
       "      <th>551</th>\n",
       "      <td>11.13</td>\n",
       "      <td>22.44</td>\n",
       "      <td>71.49</td>\n",
       "      <td>378.4</td>\n",
       "      <td>0.09566</td>\n",
       "      <td>0.08194</td>\n",
       "      <td>0.04824</td>\n",
       "      <td>0.02257</td>\n",
       "      <td>0.2030</td>\n",
       "      <td>0.06552</td>\n",
       "      <td>...</td>\n",
       "      <td>12.02</td>\n",
       "      <td>28.26</td>\n",
       "      <td>77.80</td>\n",
       "      <td>436.6</td>\n",
       "      <td>0.10870</td>\n",
       "      <td>0.17820</td>\n",
       "      <td>0.15640</td>\n",
       "      <td>0.06413</td>\n",
       "      <td>0.3169</td>\n",
       "      <td>0.08032</td>\n",
       "    </tr>\n",
       "    <tr>\n",
       "      <th>111</th>\n",
       "      <td>12.63</td>\n",
       "      <td>20.76</td>\n",
       "      <td>82.15</td>\n",
       "      <td>480.4</td>\n",
       "      <td>0.09933</td>\n",
       "      <td>0.12090</td>\n",
       "      <td>0.10650</td>\n",
       "      <td>0.06021</td>\n",
       "      <td>0.1735</td>\n",
       "      <td>0.07070</td>\n",
       "      <td>...</td>\n",
       "      <td>13.33</td>\n",
       "      <td>25.47</td>\n",
       "      <td>89.00</td>\n",
       "      <td>527.4</td>\n",
       "      <td>0.12870</td>\n",
       "      <td>0.22500</td>\n",
       "      <td>0.22160</td>\n",
       "      <td>0.11050</td>\n",
       "      <td>0.2226</td>\n",
       "      <td>0.08486</td>\n",
       "    </tr>\n",
       "    <tr>\n",
       "      <th>64</th>\n",
       "      <td>12.68</td>\n",
       "      <td>23.84</td>\n",
       "      <td>82.69</td>\n",
       "      <td>499.0</td>\n",
       "      <td>0.11220</td>\n",
       "      <td>0.12620</td>\n",
       "      <td>0.11280</td>\n",
       "      <td>0.06873</td>\n",
       "      <td>0.1905</td>\n",
       "      <td>0.06590</td>\n",
       "      <td>...</td>\n",
       "      <td>17.09</td>\n",
       "      <td>33.47</td>\n",
       "      <td>111.80</td>\n",
       "      <td>888.3</td>\n",
       "      <td>0.18510</td>\n",
       "      <td>0.40610</td>\n",
       "      <td>0.40240</td>\n",
       "      <td>0.17160</td>\n",
       "      <td>0.3383</td>\n",
       "      <td>0.10310</td>\n",
       "    </tr>\n",
       "    <tr>\n",
       "      <th>443</th>\n",
       "      <td>10.57</td>\n",
       "      <td>18.32</td>\n",
       "      <td>66.82</td>\n",
       "      <td>340.9</td>\n",
       "      <td>0.08142</td>\n",
       "      <td>0.04462</td>\n",
       "      <td>0.01993</td>\n",
       "      <td>0.01111</td>\n",
       "      <td>0.2372</td>\n",
       "      <td>0.05768</td>\n",
       "      <td>...</td>\n",
       "      <td>10.94</td>\n",
       "      <td>23.31</td>\n",
       "      <td>69.35</td>\n",
       "      <td>366.3</td>\n",
       "      <td>0.09794</td>\n",
       "      <td>0.06542</td>\n",
       "      <td>0.03986</td>\n",
       "      <td>0.02222</td>\n",
       "      <td>0.2699</td>\n",
       "      <td>0.06736</td>\n",
       "    </tr>\n",
       "  </tbody>\n",
       "</table>\n",
       "<p>5 rows × 30 columns</p>\n",
       "</div>"
      ],
      "text/plain": [
       "     mean radius  mean texture  mean perimeter  mean area  mean smoothness  \\\n",
       "518        12.88         18.22           84.45      493.1          0.12180   \n",
       "551        11.13         22.44           71.49      378.4          0.09566   \n",
       "111        12.63         20.76           82.15      480.4          0.09933   \n",
       "64         12.68         23.84           82.69      499.0          0.11220   \n",
       "443        10.57         18.32           66.82      340.9          0.08142   \n",
       "\n",
       "     mean compactness  mean concavity  mean concave points  mean symmetry  \\\n",
       "518           0.16610         0.04825              0.05303         0.1709   \n",
       "551           0.08194         0.04824              0.02257         0.2030   \n",
       "111           0.12090         0.10650              0.06021         0.1735   \n",
       "64            0.12620         0.11280              0.06873         0.1905   \n",
       "443           0.04462         0.01993              0.01111         0.2372   \n",
       "\n",
       "     mean fractal dimension           ...             worst radius  \\\n",
       "518                 0.07253           ...                    15.05   \n",
       "551                 0.06552           ...                    12.02   \n",
       "111                 0.07070           ...                    13.33   \n",
       "64                  0.06590           ...                    17.09   \n",
       "443                 0.05768           ...                    10.94   \n",
       "\n",
       "     worst texture  worst perimeter  worst area  worst smoothness  \\\n",
       "518          24.37            99.31       674.7           0.14560   \n",
       "551          28.26            77.80       436.6           0.10870   \n",
       "111          25.47            89.00       527.4           0.12870   \n",
       "64           33.47           111.80       888.3           0.18510   \n",
       "443          23.31            69.35       366.3           0.09794   \n",
       "\n",
       "     worst compactness  worst concavity  worst concave points  worst symmetry  \\\n",
       "518            0.29610          0.12460               0.10960          0.2582   \n",
       "551            0.17820          0.15640               0.06413          0.3169   \n",
       "111            0.22500          0.22160               0.11050          0.2226   \n",
       "64             0.40610          0.40240               0.17160          0.3383   \n",
       "443            0.06542          0.03986               0.02222          0.2699   \n",
       "\n",
       "     worst fractal dimension  \n",
       "518                  0.08893  \n",
       "551                  0.08032  \n",
       "111                  0.08486  \n",
       "64                   0.10310  \n",
       "443                  0.06736  \n",
       "\n",
       "[5 rows x 30 columns]"
      ]
     },
     "execution_count": 3,
     "metadata": {},
     "output_type": "execute_result"
    }
   ],
   "source": [
    "X_train.head()"
   ]
  },
  {
   "cell_type": "code",
   "execution_count": 4,
   "metadata": {},
   "outputs": [],
   "source": [
    "# build a baseline model to use in grid search later\n",
    "rf_obj=RandomForestClassifier(random_state=42)"
   ]
  },
  {
   "cell_type": "code",
   "execution_count": 5,
   "metadata": {},
   "outputs": [],
   "source": [
    "# create a grid search\n",
    "# n_estimators are small - but this is a demo\n",
    "param_grid = {'n_estimators':[50, 100, 150, 200],\n",
    "             'max_features':['auto', 'log2', 4, 5, 6, 15]}"
   ]
  },
  {
   "cell_type": "code",
   "execution_count": 6,
   "metadata": {
    "collapsed": true
   },
   "outputs": [
    {
     "name": "stdout",
     "output_type": "stream",
     "text": [
      "Fitting 5 folds for each of 24 candidates, totalling 120 fits\n"
     ]
    },
    {
     "name": "stderr",
     "output_type": "stream",
     "text": [
      "[Parallel(n_jobs=-1)]: Done  10 tasks      | elapsed:    4.5s\n",
      "[Parallel(n_jobs=-1)]: Done  64 tasks      | elapsed:    9.7s\n",
      "[Parallel(n_jobs=-1)]: Done 120 out of 120 | elapsed:   15.6s finished\n"
     ]
    },
    {
     "data": {
      "text/plain": [
       "GridSearchCV(cv=5, error_score='raise',\n",
       "       estimator=RandomForestClassifier(bootstrap=True, class_weight=None, criterion='gini',\n",
       "            max_depth=None, max_features='auto', max_leaf_nodes=None,\n",
       "            min_impurity_decrease=0.0, min_impurity_split=None,\n",
       "            min_samples_leaf=1, min_samples_split=2,\n",
       "            min_weight_fraction_leaf=0.0, n_estimators=10, n_jobs=1,\n",
       "            oob_score=False, random_state=42, verbose=0, warm_start=False),\n",
       "       fit_params=None, iid=True, n_jobs=-1,\n",
       "       param_grid={'n_estimators': [50, 100, 150, 200], 'max_features': ['auto', 'log2', 4, 5, 6, 15]},\n",
       "       pre_dispatch='2*n_jobs', refit=True, return_train_score='warn',\n",
       "       scoring='roc_auc', verbose=5)"
      ]
     },
     "execution_count": 6,
     "metadata": {},
     "output_type": "execute_result"
    }
   ],
   "source": [
    "# using cv = 5\n",
    "# scoring = using roc_auc; they are various options\n",
    "# -1 just means take up all cores \n",
    "rf_Grid = GridSearchCV(rf_obj, param_grid, cv = 5, scoring = 'roc_auc',refit = True, n_jobs=-1, verbose = 5)\n",
    "\n",
    "# fit each model - scored based on cross-validation error metrics\n",
    "rf_Grid.fit(X_train, y_train)"
   ]
  },
  {
   "cell_type": "code",
   "execution_count": 7,
   "metadata": {},
   "outputs": [
    {
     "name": "stdout",
     "output_type": "stream",
     "text": [
      "Best Model below\n",
      "RandomForestClassifier(bootstrap=True, class_weight=None, criterion='gini',\n",
      "            max_depth=None, max_features=6, max_leaf_nodes=None,\n",
      "            min_impurity_decrease=0.0, min_impurity_split=None,\n",
      "            min_samples_leaf=1, min_samples_split=2,\n",
      "            min_weight_fraction_leaf=0.0, n_estimators=50, n_jobs=1,\n",
      "            oob_score=False, random_state=42, verbose=0, warm_start=False)\n",
      "Best Hyperparameters\n",
      "{'max_features': 6, 'n_estimators': 50}\n"
     ]
    }
   ],
   "source": [
    "# best model\n",
    "print(\"Best Model below\")\n",
    "print(rf_Grid.best_estimator_)\n",
    "\n",
    "# best hyperparameters\n",
    "print(\"Best Hyperparameters\")\n",
    "print(rf_Grid.best_params_)"
   ]
  },
  {
   "cell_type": "markdown",
   "metadata": {},
   "source": [
    "#### Understanding Feature Importance: \n",
    "\n",
    "- This is a measure of how much a feature reduces impurity. Read more in the documentation.\n",
    "- In `sklearn` this value is scaled so the sum of all importances will be equal to 1. \n",
    "\n",
    "    \"Every time a split of a node is made on variable `m` the gini impurity criterion for the two descendent nodes is less than the parent node. Adding up the gini decreases for each individual variable over all trees in the forest gives a fast variable importance...\"\n",
    "\n",
    "Source of Quote: https://www.stat.berkeley.edu/~breiman/RandomForests/cc_home.htm#varimp"
   ]
  },
  {
   "cell_type": "markdown",
   "metadata": {},
   "source": [
    "#### Plotting Feature Importance: Example\n",
    "\n",
    "Inspiration for Plot Below: https://stackoverflow.com/questions/44101458/random-forest-feature-importance-chart-using-python\n",
    "\n",
    "User: spies006"
   ]
  },
  {
   "cell_type": "code",
   "execution_count": 8,
   "metadata": {},
   "outputs": [
    {
     "data": {
      "image/png": "[encoded data removed]",
      "text/plain": [
       "<Figure size 432x288 with 1 Axes>"
      ]
     },
     "metadata": {},
     "output_type": "display_data"
    }
   ],
   "source": [
    "### create copy of our best model\n",
    "best_model = rf_Grid.best_estimator_\n",
    "\n",
    "## start by pulling out the feature importance value for all features\n",
    "rf_importances = best_model.feature_importances_\n",
    "\n",
    "# Create a variable importance plot \n",
    "\n",
    "### rearrange the indices by importance of the specific feature \n",
    "sorted_indices = np.argsort(rf_importances)\n",
    "\n",
    "## create range\n",
    "y_pos = range(len(rf_importances))\n",
    "\n",
    "# plot horizontal bar & sort according to feature importance\n",
    "plt.barh(y_pos, rf_importances[sorted_indices], align='center')\n",
    "\n",
    "# plot the title of the column (according to the sorted feature importance index)\n",
    "plt.yticks(y_pos,X_test.columns[sorted_indices])\n",
    "\n",
    "plt.title(\"RF Classifier Variable Importance: Best Model\") # title \n",
    "plt.xlabel(\"Scaled Importance\") #x axis label\n",
    "plt.ylabel(\"Variable\") # y axis label \n",
    "plt.show()"
   ]
  },
  {
   "cell_type": "markdown",
   "metadata": {},
   "source": [
    "##### Other cool things to read about that relate to feature importance:\n",
    "\n",
    "1) Partial Dependence Plots: \n",
    "- http://scikit-learn.org/stable/auto_examples/ensemble/plot_partial_dependence.html\n",
    "- https://christophm.github.io/interpretable-ml-book/pdp.html\n",
    "\n",
    "2) Shapley Values: \n",
    "- A bit more complex, but very cool!\n",
    "- https://christophm.github.io/interpretable-ml-book/shapley.html"
   ]
  }
 ],
 "metadata": {
  "kernelspec": {
   "display_name": "Python [conda env:ml_py36]",
   "language": "python",
   "name": "conda-env-ml_py36-py"
  },
  "language_info": {
   "codemirror_mode": {
    "name": "ipython",
    "version": 3
   },
   "file_extension": ".py",
   "mimetype": "text/x-python",
   "name": "python",
   "nbconvert_exporter": "python",
   "pygments_lexer": "ipython3",
   "version": "3.6.5"
  }
 },
 "nbformat": 4,
 "nbformat_minor": 2
}
